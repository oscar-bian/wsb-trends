{
 "cells": [
  {
   "cell_type": "code",
   "execution_count": 291,
   "metadata": {},
   "outputs": [],
   "source": [
    "import praw\n",
    "import re\n",
    "from collections import Counter\n",
    "from collections import defaultdict\n",
    "from itertools import chain"
   ]
  },
  {
   "cell_type": "code",
   "execution_count": 38,
   "metadata": {},
   "outputs": [],
   "source": [
    "APP_ID = 'ACqyZR3hYsXzfA'\n",
    "APP_SECRET = 'xehsNEoOe_EH9DT-JwxekUDXLKxOIA'\n",
    "USER_AGENT = 'my little scrapper'"
   ]
  },
  {
   "cell_type": "code",
   "execution_count": 39,
   "metadata": {},
   "outputs": [],
   "source": [
    "reddit = praw.Reddit(\n",
    "     client_id=APP_ID,\n",
    "     client_secret=APP_SECRET,\n",
    "     user_agent=USER_AGENT\n",
    ")"
   ]
  },
  {
   "cell_type": "code",
   "execution_count": 40,
   "metadata": {},
   "outputs": [],
   "source": [
    "subreddit = reddit.subreddit(\"wallstreetbets\")"
   ]
  },
  {
   "cell_type": "code",
   "execution_count": 279,
   "metadata": {},
   "outputs": [
    {
     "name": "stdout",
     "output_type": "stream",
     "text": [
      "wallstreetbets\n"
     ]
    }
   ],
   "source": [
    "print(subreddit.display_name)"
   ]
  },
  {
   "cell_type": "code",
   "execution_count": 42,
   "metadata": {},
   "outputs": [],
   "source": [
    "hot_submissions = []\n",
    "\n",
    "for submission in subreddit.hot(limit=10):\n",
    "    author_name = submission.author.name\n",
    "    author_redditor_instance = reddit.redditor(author_name) \n",
    "    new_sumbission = {\n",
    "        'title': submission.title,  # Output: the submission's title\n",
    "        'score': submission.score,  # Output: the submission's score\n",
    "        'submission_id': submission.id,     # Output: the submission's ID\n",
    "        'submission_url': submission.url,   # Output: the URL the submission points to\n",
    "        'author': {\n",
    "            'name': author_name,\n",
    "            'comment_karma': author_redditor_instance.comment_karma\n",
    "        }\n",
    "    }\n",
    "    hot_submissions.append(new_sumbission)"
   ]
  },
  {
   "cell_type": "code",
   "execution_count": 224,
   "metadata": {},
   "outputs": [],
   "source": [
    "all_comments = []\n",
    "\n",
    "url = hot_submissions[0]['submission_url']\n",
    "sub = reddit.submission(url=url)\n",
    "\n",
    "for hot_sub in hot_submissions:\n",
    "    hot_sub_url = hot_sub['submission_url']\n",
    "    if hot_sub_url.endswith(\"/\"):\n",
    "        sub = reddit.submission(url=hot_sub['submission_url'])\n",
    "        for comment in sub.comments:\n",
    "            if hasattr(comment, 'body'):\n",
    "                author_name = comment.author.name if comment.author else None\n",
    "                \n",
    "                if author_name:\n",
    "                    redditor = reddit.redditor(author_name)\n",
    "                    comment_karma = redditor.comment_karma if redditor.comment_karma else None\n",
    "                \n",
    "                num_of_replies = 0\n",
    "                if (len(comment.replies._comments) > 0):\n",
    "                    num_of_replies = comment.replies._comments[0].count if hasattr(comment.replies._comments[0], 'count') else 0\n",
    "                all_comments.append({\n",
    "                    'body': comment.body,\n",
    "                    'author': author_name,\n",
    "                    'author_comment_karma': comment_karma,\n",
    "                    'ups': comment.ups,\n",
    "                    'downs': comment.downs,\n",
    "                    'awards_count': comment.total_awards_received,\n",
    "                    'created_at': comment.created,\n",
    "                    'num_of_replies': num_of_replies\n",
    "                })"
   ]
  },
  {
   "cell_type": "code",
   "execution_count": 286,
   "metadata": {},
   "outputs": [],
   "source": [
    "# first version, assumes you do not know the stock name\n",
    "# uses regex to filter comment for exaclty three capital letters in a row\n",
    "# with a space or a dollar sign before and a space after\n",
    "# dumb bc returns too many common words\n",
    "\n",
    "stock_name_re = '( [A-Z]{3} | \\$[A-Z]{3} )'\n",
    "\n",
    "stock_mentions = {}\n",
    "\n",
    "for com in all_comments:\n",
    "    com_stocks_names = re.findall(stock_name_re, com['body'])\n",
    "    if len(com_stocks_names) > 0:\n",
    "        for com_stock_name in com_stocks_names:\n",
    "            name = com_stock_name.strip()\n",
    "            if name[0] == '$':\n",
    "                name = name[1:]\n",
    "            if name in stock_mentions:\n",
    "                stock_mentions[name] += 1\n",
    "            else:\n",
    "                stock_mentions[name] = 1"
   ]
  },
  {
   "cell_type": "code",
   "execution_count": 304,
   "metadata": {},
   "outputs": [
    {
     "data": {
      "text/plain": [
       "{'GME': 171, 'AMC': 93}"
      ]
     },
     "execution_count": 304,
     "metadata": {},
     "output_type": "execute_result"
    }
   ],
   "source": [
    "# second version\n",
    "# uses a list with stock names\n",
    "# and Counters to count their occurencs in comments\n",
    "\n",
    "stocks_to_look_for = ['GME', 'AMC']\n",
    "\n",
    "res = {\n",
    "    'GME': 0,\n",
    "    'AMC': 0\n",
    "}\n",
    "\n",
    "for com in all_comments:\n",
    "    text = com['body']\n",
    "    counter = Counter(w for w in text.split() if w in stocks_to_look_for)\n",
    "    if len(counter) >0:\n",
    "        if 'GME' in counter:\n",
    "            res['GME'] += counter['GME']\n",
    "        if 'AMC' in counter:\n",
    "            res['AMC'] += counter['AMC']\n",
    "\n",
    "res"
   ]
  },
  {
   "cell_type": "code",
   "execution_count": null,
   "metadata": {},
   "outputs": [],
   "source": []
  }
 ],
 "metadata": {
  "kernelspec": {
   "display_name": "wsb",
   "language": "python",
   "name": "wsb"
  },
  "language_info": {
   "codemirror_mode": {
    "name": "ipython",
    "version": 3
   },
   "file_extension": ".py",
   "mimetype": "text/x-python",
   "name": "python",
   "nbconvert_exporter": "python",
   "pygments_lexer": "ipython3",
   "version": "3.8.5"
  }
 },
 "nbformat": 4,
 "nbformat_minor": 2
}
